{
  "nbformat": 4,
  "nbformat_minor": 0,
  "metadata": {
    "colab": {
      "provenance": [],
      "authorship_tag": "ABX9TyOCoBWB9AhUZoCkZaU+rDFH",
      "include_colab_link": true
    },
    "kernelspec": {
      "name": "python3",
      "display_name": "Python 3"
    },
    "language_info": {
      "name": "python"
    }
  },
  "cells": [
    {
      "cell_type": "markdown",
      "metadata": {
        "id": "view-in-github",
        "colab_type": "text"
      },
      "source": [
        "<a href=\"https://colab.research.google.com/github/antonioarieiro/SD-UFT/blob/main/Untitled12.ipynb\" target=\"_parent\"><img src=\"https://colab.research.google.com/assets/colab-badge.svg\" alt=\"Open In Colab\"/></a>"
      ]
    },
    {
      "cell_type": "code",
      "execution_count": null,
      "metadata": {
        "colab": {
          "base_uri": "https://localhost:8080/"
        },
        "id": "MLjIbMC93TuA",
        "outputId": "555f9eed-67ed-45cd-c9a5-614ff8cf535f"
      },
      "outputs": [
        {
          "output_type": "stream",
          "name": "stdout",
          "text": [
            "\u001b[33m\r0% [Working]\u001b[0m\r            \rHit:1 https://cloud.r-project.org/bin/linux/ubuntu jammy-cran40/ InRelease\n",
            "Hit:2 https://developer.download.nvidia.com/compute/cuda/repos/ubuntu2204/x86_64  InRelease\n",
            "Hit:3 http://archive.ubuntu.com/ubuntu jammy InRelease\n",
            "Hit:4 http://security.ubuntu.com/ubuntu jammy-security InRelease\n",
            "Hit:5 http://archive.ubuntu.com/ubuntu jammy-updates InRelease\n",
            "Hit:6 http://archive.ubuntu.com/ubuntu jammy-backports InRelease\n",
            "Hit:7 https://ppa.launchpadcontent.net/c2d4u.team/c2d4u4.0+/ubuntu jammy InRelease\n",
            "Hit:8 https://ppa.launchpadcontent.net/deadsnakes/ppa/ubuntu jammy InRelease\n",
            "Hit:9 https://ppa.launchpadcontent.net/graphics-drivers/ppa/ubuntu jammy InRelease\n",
            "Hit:10 https://ppa.launchpadcontent.net/ubuntugis/ppa/ubuntu jammy InRelease\n",
            "Reading package lists... Done\n",
            "Building dependency tree... Done\n",
            "Reading state information... Done\n",
            "18 packages can be upgraded. Run 'apt list --upgradable' to see them.\n",
            "Reading package lists... Done\n",
            "Building dependency tree... Done\n",
            "Reading state information... Done\n",
            "\u001b[1;31mE: \u001b[0mUnable to locate package libopenmpi-dev3\u001b[0m\n",
            "Collecting mpi4py\n",
            "  Downloading mpi4py-3.1.5.tar.gz (2.5 MB)\n",
            "\u001b[2K     \u001b[90m━━━━━━━━━━━━━━━━━━━━━━━━━━━━━━━━━━━━━━━━\u001b[0m \u001b[32m2.5/2.5 MB\u001b[0m \u001b[31m23.6 MB/s\u001b[0m eta \u001b[36m0:00:00\u001b[0m\n",
            "\u001b[?25h  Installing build dependencies ... \u001b[?25l\u001b[?25hdone\n",
            "  Getting requirements to build wheel ... \u001b[?25l\u001b[?25hdone\n",
            "  Preparing metadata (pyproject.toml) ... \u001b[?25l\u001b[?25hdone\n",
            "Building wheels for collected packages: mpi4py\n",
            "  Building wheel for mpi4py (pyproject.toml) ... \u001b[?25l\u001b[?25hdone\n",
            "  Created wheel for mpi4py: filename=mpi4py-3.1.5-cp310-cp310-linux_x86_64.whl size=2746515 sha256=60c23e68027200a67a3f4eb630da55a235b0c479748b095be6b50643d20d63c9\n",
            "  Stored in directory: /root/.cache/pip/wheels/18/2b/7f/c852523089e9182b45fca50ff56f49a51eeb6284fd25a66713\n",
            "Successfully built mpi4py\n",
            "Installing collected packages: mpi4py\n",
            "Successfully installed mpi4py-3.1.5\n"
          ]
        }
      ],
      "source": [
        "!apt update\n",
        "!apt install libopenmpi-dev3\n",
        "!pip install mpi4py"
      ]
    },
    {
      "cell_type": "code",
      "source": [
        "from mpi4py import MPI\n",
        "import numpy as np\n",
        "\n",
        "# Função para a qual estamos calculando a integral\n",
        "def f(x):\n",
        "    return 5 * x**3 + 3 * x**2 + 4 * x + 20\n",
        "\n",
        "# Função para calcular a integral usando a regra do trapézio\n",
        "def trapezoidal_rule(comm, x0, xn, n):\n",
        "    rank = comm.Get_rank()  # Identifica o número do processo atual\n",
        "    size = comm.Get_size()  # Total de processos em execução\n",
        "\n",
        "    # Calcula o intervalo (h) e a distribuição de tarefas\n",
        "    h = (xn - x0) / n\n",
        "    local_n = n // size\n",
        "    local_x0 = x0 + rank * local_n * h\n",
        "    local_xn = local_x0 + local_n * h\n",
        "\n",
        "    # Cálculo da soma local para cada processo\n",
        "    local_sum = 0.5 * (f(local_x0) + f(local_xn))\n",
        "    for i in range(1, local_n):\n",
        "        x = local_x0 + i * h\n",
        "        local_sum += f(x)\n",
        "\n",
        "    return local_sum, h\n",
        "\n",
        "# Função principal\n",
        "def main():\n",
        "    comm = MPI.COMM_WORLD\n",
        "    rank = comm.Get_rank()\n",
        "    size = comm.Get_size()\n",
        "\n",
        "    # Intervalo e número de divisões\n",
        "    x0, xn, n = 0, 1000000, 10000000\n",
        "\n",
        "    # Calcula a soma local em cada processo\n",
        "    local_sum, h = trapezoidal_rule(comm, x0, xn, n)\n",
        "\n",
        "    # Parte b) Processamento pelo Mestre\n",
        "    if rank == 0:\n",
        "        total_sum = local_sum\n",
        "        for i in range(1, size):\n",
        "            total_sum += comm.recv(source=i)\n",
        "        result = h * total_sum\n",
        "        print(\"Resultado da integral (processado pelo mestre):\", result)\n",
        "    else:\n",
        "        comm.send(local_sum, dest=0)\n",
        "\n",
        "    # Reinicialização para a Parte c)\n",
        "    local_sum, _ = trapezoidal_rule(comm, x0, xn, n)\n",
        "\n",
        "    # Parte c) Método Butterfly\n",
        "    step = 1\n",
        "    while step < size:\n",
        "        if rank % (2 * step) == 0:\n",
        "            if rank + step < size:\n",
        "                local_sum += comm.recv(source=rank + step)\n",
        "        elif rank % step == 0:\n",
        "            comm.send(local_sum, dest=rank - step)\n",
        "        step *= 2\n",
        "\n",
        "    # O processo mestre exibe o resultado final\n",
        "    if rank == 0:\n",
        "        result = h * total_sum\n",
        "        print(\"Resultado da integral (método Butterfly):\", result)\n",
        "\n",
        "# Executa a função principal\n",
        "if __name__ == \"__main__\":\n",
        "    main()"
      ],
      "metadata": {
        "colab": {
          "base_uri": "https://localhost:8080/"
        },
        "id": "8SDNYdBU5Hrf",
        "outputId": "63f98c72-703c-4a85-f047-177800f2fe89"
      },
      "execution_count": null,
      "outputs": [
        {
          "output_type": "stream",
          "name": "stdout",
          "text": [
            "Resultado da integral (processado pelo mestre): 1.2500010000020377e+24\n",
            "Resultado da integral (método Butterfly): 1.2500010000020377e+24\n"
          ]
        }
      ]
    }
  ]
}